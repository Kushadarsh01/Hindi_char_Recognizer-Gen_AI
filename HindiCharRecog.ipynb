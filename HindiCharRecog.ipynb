{
 "cells": [
  {
   "cell_type": "code",
   "execution_count": 1,
   "id": "55f2b5ac-4f87-4cb9-b570-ecee19430912",
   "metadata": {},
   "outputs": [
    {
     "name": "stdout",
     "output_type": "stream",
     "text": [
      "Requirement already satisfied: numpy in c:\\users\\asus\\miniconda3\\envs\\tf\\lib\\site-packages (1.26.4)\n",
      "Requirement already satisfied: matplotlib in c:\\users\\asus\\miniconda3\\envs\\tf\\lib\\site-packages (3.10.5)\n",
      "Requirement already satisfied: scikit-learn in c:\\users\\asus\\miniconda3\\envs\\tf\\lib\\site-packages (1.7.1)\n",
      "Requirement already satisfied: tensorflow in c:\\users\\asus\\miniconda3\\envs\\tf\\lib\\site-packages (2.10.1)\n",
      "Requirement already satisfied: contourpy>=1.0.1 in c:\\users\\asus\\miniconda3\\envs\\tf\\lib\\site-packages (from matplotlib) (1.3.2)\n",
      "Requirement already satisfied: cycler>=0.10 in c:\\users\\asus\\miniconda3\\envs\\tf\\lib\\site-packages (from matplotlib) (0.12.1)\n",
      "Requirement already satisfied: fonttools>=4.22.0 in c:\\users\\asus\\miniconda3\\envs\\tf\\lib\\site-packages (from matplotlib) (4.59.0)\n",
      "Requirement already satisfied: kiwisolver>=1.3.1 in c:\\users\\asus\\miniconda3\\envs\\tf\\lib\\site-packages (from matplotlib) (1.4.8)\n",
      "Requirement already satisfied: packaging>=20.0 in c:\\users\\asus\\miniconda3\\envs\\tf\\lib\\site-packages (from matplotlib) (25.0)\n",
      "Requirement already satisfied: pillow>=8 in c:\\users\\asus\\miniconda3\\envs\\tf\\lib\\site-packages (from matplotlib) (11.3.0)\n",
      "Requirement already satisfied: pyparsing>=2.3.1 in c:\\users\\asus\\miniconda3\\envs\\tf\\lib\\site-packages (from matplotlib) (3.2.3)\n",
      "Requirement already satisfied: python-dateutil>=2.7 in c:\\users\\asus\\miniconda3\\envs\\tf\\lib\\site-packages (from matplotlib) (2.9.0.post0)\n",
      "Requirement already satisfied: scipy>=1.8.0 in c:\\users\\asus\\miniconda3\\envs\\tf\\lib\\site-packages (from scikit-learn) (1.15.3)\n",
      "Requirement already satisfied: joblib>=1.2.0 in c:\\users\\asus\\miniconda3\\envs\\tf\\lib\\site-packages (from scikit-learn) (1.5.1)\n",
      "Requirement already satisfied: threadpoolctl>=3.1.0 in c:\\users\\asus\\miniconda3\\envs\\tf\\lib\\site-packages (from scikit-learn) (3.6.0)\n",
      "Requirement already satisfied: absl-py>=1.0.0 in c:\\users\\asus\\miniconda3\\envs\\tf\\lib\\site-packages (from tensorflow) (2.3.1)\n",
      "Requirement already satisfied: astunparse>=1.6.0 in c:\\users\\asus\\miniconda3\\envs\\tf\\lib\\site-packages (from tensorflow) (1.6.3)\n",
      "Requirement already satisfied: flatbuffers>=2.0 in c:\\users\\asus\\miniconda3\\envs\\tf\\lib\\site-packages (from tensorflow) (25.2.10)\n",
      "Requirement already satisfied: gast<=0.4.0,>=0.2.1 in c:\\users\\asus\\miniconda3\\envs\\tf\\lib\\site-packages (from tensorflow) (0.4.0)\n",
      "Requirement already satisfied: google-pasta>=0.1.1 in c:\\users\\asus\\miniconda3\\envs\\tf\\lib\\site-packages (from tensorflow) (0.2.0)\n",
      "Requirement already satisfied: h5py>=2.9.0 in c:\\users\\asus\\miniconda3\\envs\\tf\\lib\\site-packages (from tensorflow) (3.14.0)\n",
      "Requirement already satisfied: keras-preprocessing>=1.1.1 in c:\\users\\asus\\miniconda3\\envs\\tf\\lib\\site-packages (from tensorflow) (1.1.2)\n",
      "Requirement already satisfied: libclang>=13.0.0 in c:\\users\\asus\\miniconda3\\envs\\tf\\lib\\site-packages (from tensorflow) (18.1.1)\n",
      "Requirement already satisfied: opt-einsum>=2.3.2 in c:\\users\\asus\\miniconda3\\envs\\tf\\lib\\site-packages (from tensorflow) (3.4.0)\n",
      "Requirement already satisfied: protobuf<3.20,>=3.9.2 in c:\\users\\asus\\miniconda3\\envs\\tf\\lib\\site-packages (from tensorflow) (3.19.6)\n",
      "Requirement already satisfied: setuptools in c:\\users\\asus\\miniconda3\\envs\\tf\\lib\\site-packages (from tensorflow) (78.1.1)\n",
      "Requirement already satisfied: six>=1.12.0 in c:\\users\\asus\\miniconda3\\envs\\tf\\lib\\site-packages (from tensorflow) (1.17.0)\n",
      "Requirement already satisfied: termcolor>=1.1.0 in c:\\users\\asus\\miniconda3\\envs\\tf\\lib\\site-packages (from tensorflow) (3.1.0)\n",
      "Requirement already satisfied: typing-extensions>=3.6.6 in c:\\users\\asus\\miniconda3\\envs\\tf\\lib\\site-packages (from tensorflow) (4.14.1)\n",
      "Requirement already satisfied: wrapt>=1.11.0 in c:\\users\\asus\\miniconda3\\envs\\tf\\lib\\site-packages (from tensorflow) (1.17.2)\n",
      "Requirement already satisfied: tensorflow-io-gcs-filesystem>=0.23.1 in c:\\users\\asus\\miniconda3\\envs\\tf\\lib\\site-packages (from tensorflow) (0.31.0)\n",
      "Requirement already satisfied: grpcio<2.0,>=1.24.3 in c:\\users\\asus\\miniconda3\\envs\\tf\\lib\\site-packages (from tensorflow) (1.74.0)\n",
      "Requirement already satisfied: tensorboard<2.11,>=2.10 in c:\\users\\asus\\miniconda3\\envs\\tf\\lib\\site-packages (from tensorflow) (2.10.1)\n",
      "Requirement already satisfied: tensorflow-estimator<2.11,>=2.10.0 in c:\\users\\asus\\miniconda3\\envs\\tf\\lib\\site-packages (from tensorflow) (2.10.0)\n",
      "Requirement already satisfied: keras<2.11,>=2.10.0 in c:\\users\\asus\\miniconda3\\envs\\tf\\lib\\site-packages (from tensorflow) (2.10.0)\n",
      "Requirement already satisfied: google-auth<3,>=1.6.3 in c:\\users\\asus\\miniconda3\\envs\\tf\\lib\\site-packages (from tensorboard<2.11,>=2.10->tensorflow) (2.40.3)\n",
      "Requirement already satisfied: google-auth-oauthlib<0.5,>=0.4.1 in c:\\users\\asus\\miniconda3\\envs\\tf\\lib\\site-packages (from tensorboard<2.11,>=2.10->tensorflow) (0.4.6)\n",
      "Requirement already satisfied: markdown>=2.6.8 in c:\\users\\asus\\miniconda3\\envs\\tf\\lib\\site-packages (from tensorboard<2.11,>=2.10->tensorflow) (3.8.2)\n",
      "Requirement already satisfied: requests<3,>=2.21.0 in c:\\users\\asus\\miniconda3\\envs\\tf\\lib\\site-packages (from tensorboard<2.11,>=2.10->tensorflow) (2.32.4)\n",
      "Requirement already satisfied: tensorboard-data-server<0.7.0,>=0.6.0 in c:\\users\\asus\\miniconda3\\envs\\tf\\lib\\site-packages (from tensorboard<2.11,>=2.10->tensorflow) (0.6.1)\n",
      "Requirement already satisfied: tensorboard-plugin-wit>=1.6.0 in c:\\users\\asus\\miniconda3\\envs\\tf\\lib\\site-packages (from tensorboard<2.11,>=2.10->tensorflow) (1.8.1)\n",
      "Requirement already satisfied: werkzeug>=1.0.1 in c:\\users\\asus\\miniconda3\\envs\\tf\\lib\\site-packages (from tensorboard<2.11,>=2.10->tensorflow) (3.1.3)\n",
      "Requirement already satisfied: wheel>=0.26 in c:\\users\\asus\\miniconda3\\envs\\tf\\lib\\site-packages (from tensorboard<2.11,>=2.10->tensorflow) (0.45.1)\n",
      "Requirement already satisfied: cachetools<6.0,>=2.0.0 in c:\\users\\asus\\miniconda3\\envs\\tf\\lib\\site-packages (from google-auth<3,>=1.6.3->tensorboard<2.11,>=2.10->tensorflow) (5.5.2)\n",
      "Requirement already satisfied: pyasn1-modules>=0.2.1 in c:\\users\\asus\\miniconda3\\envs\\tf\\lib\\site-packages (from google-auth<3,>=1.6.3->tensorboard<2.11,>=2.10->tensorflow) (0.4.2)\n",
      "Requirement already satisfied: rsa<5,>=3.1.4 in c:\\users\\asus\\miniconda3\\envs\\tf\\lib\\site-packages (from google-auth<3,>=1.6.3->tensorboard<2.11,>=2.10->tensorflow) (4.9.1)\n",
      "Requirement already satisfied: requests-oauthlib>=0.7.0 in c:\\users\\asus\\miniconda3\\envs\\tf\\lib\\site-packages (from google-auth-oauthlib<0.5,>=0.4.1->tensorboard<2.11,>=2.10->tensorflow) (2.0.0)\n",
      "Requirement already satisfied: charset_normalizer<4,>=2 in c:\\users\\asus\\miniconda3\\envs\\tf\\lib\\site-packages (from requests<3,>=2.21.0->tensorboard<2.11,>=2.10->tensorflow) (3.4.2)\n",
      "Requirement already satisfied: idna<4,>=2.5 in c:\\users\\asus\\miniconda3\\envs\\tf\\lib\\site-packages (from requests<3,>=2.21.0->tensorboard<2.11,>=2.10->tensorflow) (3.10)\n",
      "Requirement already satisfied: urllib3<3,>=1.21.1 in c:\\users\\asus\\miniconda3\\envs\\tf\\lib\\site-packages (from requests<3,>=2.21.0->tensorboard<2.11,>=2.10->tensorflow) (2.5.0)\n",
      "Requirement already satisfied: certifi>=2017.4.17 in c:\\users\\asus\\miniconda3\\envs\\tf\\lib\\site-packages (from requests<3,>=2.21.0->tensorboard<2.11,>=2.10->tensorflow) (2025.8.3)\n",
      "Requirement already satisfied: pyasn1>=0.1.3 in c:\\users\\asus\\miniconda3\\envs\\tf\\lib\\site-packages (from rsa<5,>=3.1.4->google-auth<3,>=1.6.3->tensorboard<2.11,>=2.10->tensorflow) (0.6.1)\n",
      "Requirement already satisfied: oauthlib>=3.0.0 in c:\\users\\asus\\miniconda3\\envs\\tf\\lib\\site-packages (from requests-oauthlib>=0.7.0->google-auth-oauthlib<0.5,>=0.4.1->tensorboard<2.11,>=2.10->tensorflow) (3.3.1)\n",
      "Requirement already satisfied: MarkupSafe>=2.1.1 in c:\\users\\asus\\miniconda3\\envs\\tf\\lib\\site-packages (from werkzeug>=1.0.1->tensorboard<2.11,>=2.10->tensorflow) (3.0.2)\n",
      "Note: you may need to restart the kernel to use updated packages.\n"
     ]
    }
   ],
   "source": [
    "%pip install numpy matplotlib scikit-learn tensorflow"
   ]
  },
  {
   "cell_type": "code",
   "execution_count": 2,
   "id": "4062c89c-ee3a-493e-8fdb-66e10c8db345",
   "metadata": {},
   "outputs": [
    {
     "name": "stdout",
     "output_type": "stream",
     "text": [
      "Extraction complete!\n"
     ]
    }
   ],
   "source": [
    "import zipfile\n",
    "zip_path = 'Hindi-Dataset.zip'  \n",
    "extract_to = 'Hindi-Dataset'\n",
    "\n",
    "with zipfile.ZipFile(zip_path, 'r') as zip_ref:\n",
    "    zip_ref.extractall(extract_to)\n",
    "\n",
    "print(\"Extraction complete!\")"
   ]
  },
  {
   "cell_type": "code",
   "execution_count": 3,
   "id": "16b1ec67-7a92-4703-b3e6-1f8296bd2443",
   "metadata": {},
   "outputs": [
    {
     "name": "stdout",
     "output_type": "stream",
     "text": [
      "Contents of extracted folder:\n",
      "['digits', 'Hindi', 'Top-10']\n"
     ]
    }
   ],
   "source": [
    "import os\n",
    "\n",
    "# Show folders/files after extracting\n",
    "print(\"Contents of extracted folder:\")\n",
    "print(os.listdir('Hindi-Dataset'))"
   ]
  },
  {
   "cell_type": "code",
   "execution_count": 4,
   "id": "d2fdb379-d75c-4eee-a128-c5c16643bd26",
   "metadata": {},
   "outputs": [
    {
     "name": "stdout",
     "output_type": "stream",
     "text": [
      "\n",
      "Contents of 'digits': ['digits']\n",
      "\n",
      "Contents of 'Hindi': ['Test', 'Train']\n",
      "\n",
      "Contents of 'Top-10': ['Test', 'Train']\n"
     ]
    }
   ],
   "source": [
    "for folder in ['digits', 'Hindi', 'Top-10']:\n",
    "    path = os.path.join('Hindi-Dataset', folder)\n",
    "    print(f\"\\nContents of '{folder}':\", os.listdir(path)[:5])  # show first 5 items"
   ]
  },
  {
   "cell_type": "code",
   "execution_count": 1,
   "id": "f3816e6a-0536-4892-a1b1-d15c0ff928ed",
   "metadata": {},
   "outputs": [],
   "source": [
    "import imghdr\n",
    "import os\n",
    "from tensorflow.keras.preprocessing.image import load_img, img_to_array\n",
    "\n",
    "data_dir = os.path.join('Hindi-Dataset', 'Hindi')\n",
    "train_dir = os.path.join(data_dir, 'Train')\n",
    "test_dir = os.path.join(data_dir, 'Test')\n",
    "img_size = 32\n",
    "\n",
    "X = []\n",
    "y = []\n",
    "\n",
    "class_names = sorted([folder for folder in os.listdir(train_dir) if os.path.isdir(os.path.join(train_dir, folder))])\n",
    "\n",
    "for idx, class_folder in enumerate(class_names):\n",
    "    folder_path = os.path.join(train_dir, class_folder)\n",
    "    for img_file in os.listdir(folder_path):\n",
    "        img_path = os.path.join(folder_path, img_file)\n",
    "\n",
    "        # Skip if not a file or not an image\n",
    "        if not os.path.isfile(img_path) or imghdr.what(img_path) is None:\n",
    "            continue\n",
    "\n",
    "        img = load_img(img_path, target_size=(img_size, img_size), color_mode='grayscale')\n",
    "        img_array = img_to_array(img) / 255.0\n",
    "        X.append(img_array)\n",
    "        y.append(idx)"
   ]
  },
  {
   "cell_type": "code",
   "execution_count": 2,
   "id": "7ef7564a-7c6f-459f-b576-1cef2c579a9c",
   "metadata": {},
   "outputs": [],
   "source": [
    "import numpy as np\n",
    "from tensorflow.keras.utils import to_categorical\n",
    "\n",
    "def load_dataset(data_dir):\n",
    "    X = []\n",
    "    y = []\n",
    "    class_names = sorted(os.listdir(data_dir))\n",
    "\n",
    "    for idx, class_folder in enumerate(class_names):\n",
    "        folder_path = os.path.join(data_dir, class_folder)\n",
    "        for img_file in os.listdir(folder_path):\n",
    "            img_path = os.path.join(folder_path, img_file)\n",
    "\n",
    "            if not os.path.isfile(img_path) or imghdr.what(img_path) is None:\n",
    "                continue\n",
    "\n",
    "            img = load_img(img_path, target_size=(img_size, img_size), color_mode='grayscale')\n",
    "            img_array = img_to_array(img) / 255.0\n",
    "            X.append(img_array)\n",
    "            y.append(idx)\n",
    "\n",
    "    return np.array(X), to_categorical(y), class_names"
   ]
  },
  {
   "cell_type": "code",
   "execution_count": 3,
   "id": "82da8d6c-08b6-4a99-a1eb-de742966073b",
   "metadata": {},
   "outputs": [
    {
     "name": "stdout",
     "output_type": "stream",
     "text": [
      "Train shape: (78200, 32, 32, 1)\n",
      "Test shape: (13800, 32, 32, 1)\n",
      "Number of classes: 46\n"
     ]
    }
   ],
   "source": [
    "import numpy as np\n",
    "\n",
    "X_train, y_train, class_names = load_dataset(train_dir)\n",
    "X_test, y_test, _ = load_dataset(test_dir)\n",
    "\n",
    "print(\"Train shape:\", X_train.shape)\n",
    "print(\"Test shape:\", X_test.shape)\n",
    "print(\"Number of classes:\", len(class_names))"
   ]
  },
  {
   "cell_type": "code",
   "execution_count": 4,
   "id": "9ac47091-8bf0-488e-b6f5-6e53333c269a",
   "metadata": {},
   "outputs": [
    {
     "name": "stdout",
     "output_type": "stream",
     "text": [
      "Model: \"sequential\"\n",
      "_________________________________________________________________\n",
      " Layer (type)                Output Shape              Param #   \n",
      "=================================================================\n",
      " conv2d (Conv2D)             (None, 30, 30, 32)        320       \n",
      "                                                                 \n",
      " max_pooling2d (MaxPooling2D  (None, 15, 15, 32)       0         \n",
      " )                                                               \n",
      "                                                                 \n",
      " conv2d_1 (Conv2D)           (None, 13, 13, 64)        18496     \n",
      "                                                                 \n",
      " max_pooling2d_1 (MaxPooling  (None, 6, 6, 64)         0         \n",
      " 2D)                                                             \n",
      "                                                                 \n",
      " flatten (Flatten)           (None, 2304)              0         \n",
      "                                                                 \n",
      " dense (Dense)               (None, 128)               295040    \n",
      "                                                                 \n",
      " dense_1 (Dense)             (None, 46)                5934      \n",
      "                                                                 \n",
      "=================================================================\n",
      "Total params: 319,790\n",
      "Trainable params: 319,790\n",
      "Non-trainable params: 0\n",
      "_________________________________________________________________\n"
     ]
    }
   ],
   "source": [
    "import tensorflow as tf\n",
    "\n",
    "model = tf.keras.Sequential([\n",
    "    tf.keras.Input(shape=(32, 32, 1)),\n",
    "    tf.keras.layers.Conv2D(32, (3,3), activation='relu'),\n",
    "    tf.keras.layers.MaxPooling2D(2,2),\n",
    "    tf.keras.layers.Conv2D(64, (3,3), activation='relu'),\n",
    "    tf.keras.layers.MaxPooling2D(2,2),\n",
    "    tf.keras.layers.Flatten(),\n",
    "    tf.keras.layers.Dense(128, activation='relu'),\n",
    "    tf.keras.layers.Dense(len(class_names), activation='softmax')\n",
    "])\n",
    "\n",
    "model.compile(optimizer='adam',\n",
    "              loss='categorical_crossentropy',\n",
    "              metrics=['accuracy'])\n",
    "\n",
    "model.summary()"
   ]
  },
  {
   "cell_type": "code",
   "execution_count": 5,
   "id": "03c5821f-a3b4-422c-8466-f68056ae7cec",
   "metadata": {},
   "outputs": [
    {
     "name": "stdout",
     "output_type": "stream",
     "text": [
      "Epoch 1/10\n",
      "1100/1100 [==============================] - 29s 26ms/step - loss: 0.6138 - accuracy: 0.8293 - val_loss: 24.5446 - val_accuracy: 0.1102\n",
      "Epoch 2/10\n",
      "1100/1100 [==============================] - 28s 25ms/step - loss: 0.1616 - accuracy: 0.9515 - val_loss: 26.6059 - val_accuracy: 0.1148\n",
      "Epoch 3/10\n",
      "1100/1100 [==============================] - 28s 25ms/step - loss: 0.0986 - accuracy: 0.9701 - val_loss: 27.9603 - val_accuracy: 0.1114\n",
      "Epoch 4/10\n",
      "1100/1100 [==============================] - 28s 25ms/step - loss: 0.0643 - accuracy: 0.9797 - val_loss: 31.0071 - val_accuracy: 0.0930\n",
      "Epoch 5/10\n",
      "1100/1100 [==============================] - 28s 26ms/step - loss: 0.0476 - accuracy: 0.9848 - val_loss: 30.7588 - val_accuracy: 0.1176\n",
      "Epoch 6/10\n",
      "1100/1100 [==============================] - 48s 43ms/step - loss: 0.0339 - accuracy: 0.9892 - val_loss: 34.4397 - val_accuracy: 0.1061\n",
      "Epoch 7/10\n",
      "1100/1100 [==============================] - 50s 46ms/step - loss: 0.0282 - accuracy: 0.9904 - val_loss: 33.8788 - val_accuracy: 0.1187\n",
      "Epoch 8/10\n",
      "1100/1100 [==============================] - 50s 46ms/step - loss: 0.0228 - accuracy: 0.9926 - val_loss: 34.8717 - val_accuracy: 0.1096\n",
      "Epoch 9/10\n",
      "1100/1100 [==============================] - 51s 46ms/step - loss: 0.0192 - accuracy: 0.9934 - val_loss: 38.2274 - val_accuracy: 0.1231\n",
      "Epoch 10/10\n",
      "1100/1100 [==============================] - 51s 46ms/step - loss: 0.0171 - accuracy: 0.9939 - val_loss: 36.0820 - val_accuracy: 0.1042\n"
     ]
    },
    {
     "data": {
      "text/plain": [
       "<keras.callbacks.History at 0x1e5dc075c90>"
      ]
     },
     "execution_count": 5,
     "metadata": {},
     "output_type": "execute_result"
    }
   ],
   "source": [
    "model.fit(X_train, y_train, epochs=10, batch_size=64, validation_split=0.1)"
   ]
  },
  {
   "cell_type": "code",
   "execution_count": 6,
   "id": "7676b329-1622-4e97-9ebf-28b78ea34737",
   "metadata": {},
   "outputs": [
    {
     "name": "stdout",
     "output_type": "stream",
     "text": [
      "432/432 [==============================] - 2s 6ms/step - loss: 3.7263 - accuracy: 0.8841\n",
      "Test Accuracy: 0.8841\n"
     ]
    }
   ],
   "source": [
    "loss, acc = model.evaluate(X_test, y_test)\n",
    "print(f\"Test Accuracy: {acc:.4f}\")"
   ]
  },
  {
   "cell_type": "code",
   "execution_count": 22,
   "id": "aad38626-a52e-4f1a-b39a-7dedb0021d57",
   "metadata": {},
   "outputs": [
    {
     "name": "stdout",
     "output_type": "stream",
     "text": [
      "1/1 [==============================] - 0s 31ms/step\n"
     ]
    },
    {
     "data": {
      "image/png": "[encoded data removed]",
      "text/plain": [
       "<Figure size 640x480 with 1 Axes>"
      ]
     },
     "metadata": {},
     "output_type": "display_data"
    }
   ],
   "source": [
    "import random\n",
    "import matplotlib.pyplot as plt\n",
    "i = random.randint(0, len(X_test)-1)\n",
    "\n",
    "plt.imshow(X_test[i].reshape(img_size, img_size), cmap='gray')\n",
    "pred = model.predict(np.expand_dims(X_test[i], axis=0))\n",
    "plt.title(f\"Predicted: {class_names[np.argmax(pred)]}\")\n",
    "plt.axis('off')\n",
    "plt.show()"
   ]
  }
 ],
 "metadata": {
  "kernelspec": {
   "display_name": "tf",
   "language": "python",
   "name": "python3"
  },
  "language_info": {
   "codemirror_mode": {
    "name": "ipython",
    "version": 3
   },
   "file_extension": ".py",
   "mimetype": "text/x-python",
   "name": "python",
   "nbconvert_exporter": "python",
   "pygments_lexer": "ipython3",
   "version": "3.10.18"
  }
 },
 "nbformat": 4,
 "nbformat_minor": 5
}
